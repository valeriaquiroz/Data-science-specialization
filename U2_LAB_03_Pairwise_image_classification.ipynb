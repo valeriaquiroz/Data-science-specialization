{
  "nbformat": 4,
  "nbformat_minor": 0,
  "metadata": {
    "kernelspec": {
      "display_name": "p38",
      "language": "python",
      "name": "p38"
    },
    "language_info": {
      "codemirror_mode": {
        "name": "ipython",
        "version": 3
      },
      "file_extension": ".py",
      "mimetype": "text/x-python",
      "name": "python",
      "nbconvert_exporter": "python",
      "pygments_lexer": "ipython3",
      "version": "3.8.3"
    },
    "colab": {
      "name": "Copia de U2 LAB 03 - Pairwise image classification.ipynb",
      "provenance": [],
      "include_colab_link": true
    }
  },
  "cells": [
    {
      "cell_type": "markdown",
      "metadata": {
        "id": "view-in-github",
        "colab_type": "text"
      },
      "source": [
        "<a href=\"https://colab.research.google.com/github/valeriaquiroz/ML/blob/main/U2_LAB_03_Pairwise_image_classification.ipynb\" target=\"_parent\"><img src=\"https://colab.research.google.com/assets/colab-badge.svg\" alt=\"Open In Colab\"/></a>"
      ]
    },
    {
      "cell_type": "markdown",
      "metadata": {
        "id": "gb2YY-OD9eh-"
      },
      "source": [
        "# LAB 2.3 - Pairwise classification"
      ]
    },
    {
      "cell_type": "code",
      "metadata": {
        "id": "twlLrES19eiH",
        "colab": {
          "base_uri": "https://localhost:8080/",
          "height": 57
        },
        "outputId": "986c13c4-4bc0-405b-d8ae-3fcefd72ce48"
      },
      "source": [
        "!wget -nc --no-cache -O init.py -q https://raw.githubusercontent.com/rramosp/2021.deeplearning/main/content/init.py\n",
        "import init; init.init(force_download=False); init.get_weblink() "
      ],
      "execution_count": null,
      "outputs": [
        {
          "output_type": "execute_result",
          "data": {
            "text/html": [
              "<h3>See <a href='https://m5knaekxo6.execute-api.us-west-2.amazonaws.com/dev-v0001/rlxmooc/web/login' target='_blank'>my courses and progress</a></h2>"
            ],
            "text/plain": [
              "<IPython.core.display.HTML object>"
            ]
          },
          "metadata": {
            "tags": []
          },
          "execution_count": 3
        }
      ]
    },
    {
      "cell_type": "code",
      "metadata": {
        "id": "Ym7aazny9eiI",
        "colab": {
          "base_uri": "https://localhost:8080/"
        },
        "outputId": "83c0d323-6d18-460c-9d8b-faacfaaaec73"
      },
      "source": [
        "from local.lib.rlxmoocapi import submit, session\n",
        "import inspect\n",
        "student = session.Session(init.endpoint).login( course_id=init.course_id, lab_id=\"L02.03\" )"
      ],
      "execution_count": null,
      "outputs": [
        {
          "output_type": "stream",
          "text": [
            "username: valeria.quiroz@udea.edu.co\n",
            "password: ··········\n",
            "using session eacd\n"
          ],
          "name": "stdout"
        }
      ]
    },
    {
      "cell_type": "markdown",
      "metadata": {
        "id": "QKSSKILk9eiJ"
      },
      "source": [
        "## LAB SUMMARY\n",
        "\n",
        "In this lab we will use define a **slightly different** machine learning task. Given two MNIST images **as input** we want a network with a binary output: `1` if both images belong to the same MNIST class, and `0` otherwise.\n"
      ]
    },
    {
      "cell_type": "code",
      "metadata": {
        "id": "GLSUx6OF9eiJ"
      },
      "source": [
        "import pandas as pd\n",
        "import numpy as np\n",
        "import matplotlib.pyplot as plt\n",
        "from sklearn.model_selection import train_test_split\n",
        "import tensorflow as tf\n",
        "%matplotlib inline"
      ],
      "execution_count": null,
      "outputs": []
    },
    {
      "cell_type": "code",
      "metadata": {
        "id": "osc6rEaA9eiO",
        "colab": {
          "base_uri": "https://localhost:8080/"
        },
        "outputId": "6a4f5740-86ab-4878-c6d9-d40d0159a56e"
      },
      "source": [
        "mnist = pd.read_csv(\"local/data/mnist1.5k.csv.gz\", compression=\"gzip\", header=None).values\n",
        "X=(mnist[:,1:785]/255.).astype(np.float32)\n",
        "y=(mnist[:,0]).astype(int)\n",
        "print(\"dimension de las imagenes y las clases\", X.shape, y.shape)"
      ],
      "execution_count": null,
      "outputs": [
        {
          "output_type": "stream",
          "text": [
            "dimension de las imagenes y las clases (1500, 784) (1500,)\n"
          ],
          "name": "stdout"
        }
      ]
    },
    {
      "cell_type": "code",
      "metadata": {
        "id": "09_sMfj29eiP",
        "colab": {
          "base_uri": "https://localhost:8080/"
        },
        "outputId": "5973d077-d500-40d9-cf06-a0e02e26df1e"
      },
      "source": [
        "Xtr, Xts, ytr, yts = train_test_split(X,y, test_size=0.3)\n",
        "Xtr.shape, ytr.shape, Xts.shape, yts.shape"
      ],
      "execution_count": null,
      "outputs": [
        {
          "output_type": "execute_result",
          "data": {
            "text/plain": [
              "((1050, 784), (1050,), (450, 784), (450,))"
            ]
          },
          "metadata": {
            "tags": []
          },
          "execution_count": 7
        }
      ]
    },
    {
      "cell_type": "markdown",
      "metadata": {
        "id": "Z_324L3X9eiP"
      },
      "source": [
        "**FIRST**, observe how we build a labelled dataset for this task, so that each training example has:\n",
        "\n",
        "- two images selected randomly from the original dataset\n",
        "- label `0` if they belong to the same class, or `1` otherwise\n",
        "\n",
        "This way, the resulting data structures\n",
        "\n",
        "- `pXtr` and `pXts` contain the paired images, for train and for test\n",
        "- `pytr` and `pyts` contain the labels of the corresponding paired images, for train and for test\n",
        "- `eytr` and `eyts` contain the `0`/`1` new labels, one for each pair."
      ]
    },
    {
      "cell_type": "code",
      "metadata": {
        "id": "WQqRJb3D9eiP"
      },
      "source": [
        "def pairup(X, y, n_pairs_per_class, same_class):\n",
        "    \n",
        "    idxs = None\n",
        "    labels = np.unique(y)\n",
        "    for i in labels:\n",
        "        idxs_p1 = np.argwhere(y==i)[:,0] if same_class else np.argwhere(y!=i)[:,0]\n",
        "        idxs_p2 = np.argwhere(y==i)[:,0]\n",
        "        c = np.vstack([\n",
        "                    np.random.choice(idxs_p1, size=n_pairs_per_class, replace=True),\n",
        "                    np.random.choice(idxs_p2, size=n_pairs_per_class, replace=True)\n",
        "            ]).T\n",
        "        \n",
        "        idxs = c if idxs is None else np.vstack((idxs,c))\n",
        "        \n",
        "    X_pairs = [X[idxs[:,0]],X[idxs[:,1]]]\n",
        "    y_pairs = [y[idxs[:,0]],y[idxs[:,1]]]\n",
        "    y_labels = y[idxs[:,0]]==y[idxs[:,1]]        \n",
        "        \n",
        "    return idxs, X_pairs, y_pairs, y_labels\n",
        "\n",
        "def build_image_pairs(X,y,n_pairs_per_class):\n",
        "    idxs0, pX0, py0, ey0 = pairup(X, y, n_pairs_per_class, same_class=False)\n",
        "    idxs1, pX1, py1, ey1 = pairup(X, y, n_pairs_per_class, same_class=True)\n",
        "    \n",
        "    pX = [np.vstack((i,j)) for i,j in zip(pX0, pX1)]\n",
        "    py = [np.hstack((i,j)) for i,j in zip(py0, py1)]\n",
        "    ey = np.hstack((ey0, ey1))\n",
        "    idxs = np.vstack((idxs0, idxs1))\n",
        "    \n",
        "    return idxs, pX, py, ey.astype(int)\n",
        "    "
      ],
      "execution_count": null,
      "outputs": []
    },
    {
      "cell_type": "code",
      "metadata": {
        "id": "-wBdngvk9eiQ"
      },
      "source": [
        "itr, pXtr, pytr, eytr = build_image_pairs(Xtr, ytr, n_pairs_per_class=100)\n",
        "its, pXts, pyts, eyts = build_image_pairs(Xts, yts, n_pairs_per_class=100)"
      ],
      "execution_count": null,
      "outputs": []
    },
    {
      "cell_type": "markdown",
      "metadata": {
        "id": "68EsuUOQ9eiR"
      },
      "source": [
        "understand and inspect the structures created and observe how the function above creates a **balanced** dataset\n"
      ]
    },
    {
      "cell_type": "code",
      "metadata": {
        "id": "zrR3rnMf9eiR",
        "colab": {
          "base_uri": "https://localhost:8080/"
        },
        "outputId": "a6e56aba-ff16-4386-bd26-929a155fb764"
      },
      "source": [
        "\n",
        "[i.shape for i in pXtr], [i.shape for i in pytr], itr.shape, eytr.shape\n"
      ],
      "execution_count": null,
      "outputs": [
        {
          "output_type": "execute_result",
          "data": {
            "text/plain": [
              "([(2000, 784), (2000, 784)], [(2000,), (2000,)], (2000, 2), (2000,))"
            ]
          },
          "metadata": {
            "tags": []
          },
          "execution_count": 10
        }
      ]
    },
    {
      "cell_type": "code",
      "metadata": {
        "id": "c3i2nsSC9eiT",
        "colab": {
          "base_uri": "https://localhost:8080/"
        },
        "outputId": "a7732e5f-49b6-489d-a6fd-52bf3bdfed52"
      },
      "source": [
        "\n",
        "[i.shape for i in pXts], [i.shape for i in pyts], its.shape, eyts.shape\n"
      ],
      "execution_count": null,
      "outputs": [
        {
          "output_type": "execute_result",
          "data": {
            "text/plain": [
              "([(2000, 784), (2000, 784)], [(2000,), (2000,)], (2000, 2), (2000,))"
            ]
          },
          "metadata": {
            "tags": []
          },
          "execution_count": 11
        }
      ]
    },
    {
      "cell_type": "code",
      "metadata": {
        "id": "DY9qclzm9eiT",
        "colab": {
          "base_uri": "https://localhost:8080/"
        },
        "outputId": "2294a168-1a13-4df3-f9a4-9951cb6aa816"
      },
      "source": [
        "\n",
        "print (\"class distribution %.2f::%.2f\"%(np.mean(eytr), 1-np.mean(eytr)))\n",
        "\n"
      ],
      "execution_count": null,
      "outputs": [
        {
          "output_type": "stream",
          "text": [
            "class distribution 0.50::0.50\n"
          ],
          "name": "stdout"
        }
      ]
    },
    {
      "cell_type": "code",
      "metadata": {
        "id": "_u7szib19eiU",
        "colab": {
          "base_uri": "https://localhost:8080/",
          "height": 692
        },
        "outputId": "28747892-9fb0-4363-fc7b-f1c4eb61e20e"
      },
      "source": [
        "\n",
        "for _ in range(5):\n",
        "    i = np.random.randint(len(pXtr[0]))\n",
        "    plt.figure(figsize=(4,2))\n",
        "    plt.subplot(121)\n",
        "    plt.imshow(pXtr[0][i].reshape(28,28), cmap=plt.cm.Greys_r); \n",
        "    plt.ylabel(\"CLASS %d\"%(eytr[i]));\n",
        "    plt.title(\"pair_0 :     %d\"%(pytr[0][i])); plt.xticks([],[]); plt.yticks([],[])\n",
        "    plt.subplot(122)\n",
        "    plt.imshow(pXtr[1][i].reshape(28,28), plt.cm.Greys_r); \n",
        "    plt.title(\"pair_1 :     %d\"%pytr[1][i]); plt.xticks([],[]); plt.yticks([],[])\n"
      ],
      "execution_count": null,
      "outputs": [
        {
          "output_type": "display_data",
          "data": {
            "image/png": "[encoded data removed]",
            "text/plain": [
              "<Figure size 288x144 with 2 Axes>"
            ]
          },
          "metadata": {
            "tags": []
          }
        },
        {
          "output_type": "display_data",
          "data": {
            "image/png": "[encoded data removed]",
            "text/plain": [
              "<Figure size 288x144 with 2 Axes>"
            ]
          },
          "metadata": {
            "tags": []
          }
        },
        {
          "output_type": "display_data",
          "data": {
            "image/png": "[encoded data removed]",
            "text/plain": [
              "<Figure size 288x144 with 2 Axes>"
            ]
          },
          "metadata": {
            "tags": []
          }
        },
        {
          "output_type": "display_data",
          "data": {
            "image/png": "[encoded data removed]",
            "text/plain": [
              "<Figure size 288x144 with 2 Axes>"
            ]
          },
          "metadata": {
            "tags": []
          }
        },
        {
          "output_type": "display_data",
          "data": {
            "image/png": "[encoded data removed]",
            "text/plain": [
              "<Figure size 288x144 with 2 Axes>"
            ]
          },
          "metadata": {
            "tags": []
          }
        }
      ]
    },
    {
      "cell_type": "markdown",
      "metadata": {
        "id": "KourZ4Vf9eiU"
      },
      "source": [
        "## TASK 1: Multi-input model\n",
        "\n",
        "Create a model with the architecture depicted in the following figure. "
      ]
    },
    {
      "cell_type": "code",
      "metadata": {
        "id": "0unzgXno9eiV",
        "colab": {
          "base_uri": "https://localhost:8080/",
          "height": 595
        },
        "outputId": "51c7add0-77bf-4b88-f3bb-a94f2844aae7"
      },
      "source": [
        "\n",
        "from IPython.display import Image\n",
        "Image(filename='local/imgs/twoinputs.png', width=600)\n"
      ],
      "execution_count": null,
      "outputs": [
        {
          "output_type": "execute_result",
          "data": {
            "image/png": "[encoded data removed]",
            "text/plain": [
              "<IPython.core.display.Image object>"
            ]
          },
          "metadata": {
            "tags": [],
            "image/png": {
              "width": 600
            }
          },
          "execution_count": 14
        }
      ]
    },
    {
      "cell_type": "markdown",
      "metadata": {
        "id": "OpqLfx_I9eiV"
      },
      "source": [
        "Observe that \n",
        "\n",
        "- it will have **TWO** input layers with `input_dim=784` neurons each.\n",
        "- there is ony **ONE** output neuron.\n",
        "- the model summary should be as follows and **MUST NAME THE LAYERS ACCORDINGLY** (but not the `tf.concat` which is just an operation, not a layer):\n",
        "\n",
        "<pre>\n",
        "\n",
        "    __________________________________________________________________________________________________\n",
        "    Layer (type)                    Output Shape         Param #     Connected to                     \n",
        "    ==================================================================================================\n",
        "    input_img0 (InputLayer)         [(None, 784)]        0                                            \n",
        "    __________________________________________________________________________________________________\n",
        "    input_img1 (InputLayer)         [(None, 784)]        0                                            \n",
        "    __________________________________________________________________________________________________\n",
        "    layer1_img0 (Dense)             (None, 100)          78500       input_img0[0][0]                 \n",
        "    __________________________________________________________________________________________________\n",
        "    layer1_img1 (Dense)             (None, 100)          78500       input_img1[0][0]                 \n",
        "    __________________________________________________________________________________________________\n",
        "    tf_op_layer_concat_39 (TensorFl [(None, 200)]        0           layer1_img0[0][0]                \n",
        "                                                                     layer1_img1[0][0]                \n",
        "    __________________________________________________________________________________________________\n",
        "    layer2_common (Dense)           (None, 100)          20100       tf_op_layer_concat_39[0][0]      \n",
        "    __________________________________________________________________________________________________\n",
        "    output (Dense)                  (None, 1)            101         layer2_common[0][0]              \n",
        "    ==================================================================================================\n",
        "    Total params: 177,201\n",
        "    Trainable params: 177,201\n",
        "    Non-trainable params: 0\n",
        "    __________________________________________________________________________________________________\n",
        "</pre>"
      ]
    },
    {
      "cell_type": "code",
      "metadata": {
        "id": "YTpalGIOAazt"
      },
      "source": [
        "from tensorflow.keras.layers import Dense"
      ],
      "execution_count": null,
      "outputs": []
    },
    {
      "cell_type": "code",
      "metadata": {
        "id": "bdZEW4E99eiW"
      },
      "source": [
        "def get_model(input_dim):\n",
        "    \n",
        "    inputs1  = tf.keras.layers.Input(shape=input_dim, name=\"input_img0\")\n",
        "    inputs2  = tf.keras.layers.Input(shape=input_dim, name=\"input_img1\")\n",
        "    \n",
        "    layer1 = Dense(100, activation='relu', dtype=np.float32, name=\"layer1_img0\")(inputs1)\n",
        "    layer2 = Dense(100, activation='relu', dtype=np.float32, name=\"layer1_img1\")(inputs2)\n",
        "    concatenate = tf.concat([layer1,layer2], 0)\n",
        "\n",
        "    layer3 =  Dense(100, activation='relu', dtype=np.float32, name=\"layer2_common\")(concatenate)\n",
        "    \n",
        "    outputs =  Dense(1, activation='sigmoid', dtype=np.float32, name=\"output\")(layer3)\n",
        "\n",
        "    model = tf.keras.Model(inputs=[inputs1, inputs2], outputs=outputs)    \n",
        "    \n",
        "    model.compile(optimizer='adam', loss='mse')\n",
        "    return model"
      ],
      "execution_count": null,
      "outputs": []
    },
    {
      "cell_type": "code",
      "metadata": {
        "id": "6TXuhwAL9eiX",
        "colab": {
          "base_uri": "https://localhost:8080/"
        },
        "outputId": "5eeb71e9-1bed-4f53-aaf3-fa05d3172dd4"
      },
      "source": [
        "model = get_model(X.shape[1])\n",
        "model.summary()"
      ],
      "execution_count": null,
      "outputs": [
        {
          "output_type": "stream",
          "text": [
            "Model: \"model\"\n",
            "__________________________________________________________________________________________________\n",
            "Layer (type)                    Output Shape         Param #     Connected to                     \n",
            "==================================================================================================\n",
            "input_img0 (InputLayer)         [(None, 784)]        0                                            \n",
            "__________________________________________________________________________________________________\n",
            "input_img1 (InputLayer)         [(None, 784)]        0                                            \n",
            "__________________________________________________________________________________________________\n",
            "layer1_img0 (Dense)             (None, 100)          78500       input_img0[0][0]                 \n",
            "__________________________________________________________________________________________________\n",
            "layer1_img1 (Dense)             (None, 100)          78500       input_img1[0][0]                 \n",
            "__________________________________________________________________________________________________\n",
            "tf.concat (TFOpLambda)          (None, 100)          0           layer1_img0[0][0]                \n",
            "                                                                 layer1_img1[0][0]                \n",
            "__________________________________________________________________________________________________\n",
            "layer2_common (Dense)           (None, 100)          10100       tf.concat[0][0]                  \n",
            "__________________________________________________________________________________________________\n",
            "output (Dense)                  (None, 1)            101         layer2_common[0][0]              \n",
            "==================================================================================================\n",
            "Total params: 167,201\n",
            "Trainable params: 167,201\n",
            "Non-trainable params: 0\n",
            "__________________________________________________________________________________________________\n"
          ],
          "name": "stdout"
        }
      ]
    },
    {
      "cell_type": "code",
      "metadata": {
        "id": "VPsvcUmo9eiX"
      },
      "source": [
        ""
      ],
      "execution_count": null,
      "outputs": []
    },
    {
      "cell_type": "markdown",
      "metadata": {
        "id": "EjTemu2L9eiX"
      },
      "source": [
        "**Registra tu solución en linea**"
      ]
    },
    {
      "cell_type": "code",
      "metadata": {
        "scrolled": true,
        "id": "wO1QzlUk9eiY",
        "colab": {
          "base_uri": "https://localhost:8080/"
        },
        "outputId": "05ccfe32-f66e-400e-f012-113461c45649"
      },
      "source": [
        "student.submit_task(namespace=globals(), task_id='T1');"
      ],
      "execution_count": null,
      "outputs": [
        {
          "output_type": "stream",
          "text": [
            "error: ERROR EXECUTING YOUR CODE\n",
            "---------------------------------\n",
            "2021-04-11 03:51:21.110332: I tensorflow/stream_executor/platform/default/dso_loader.cc:49] Successfully opened dynamic library libcudart.so.11.0\n",
            "2021-04-11 03:51:22.878837: I tensorflow/compiler/jit/xla_cpu_device.cc:41] Not creating XLA devices, tf_xla_enable_xla_devices not set\n",
            "2021-04-11 03:51:22.879905: I tensorflow/stream_executor/platform/default/dso_loader.cc:49] Successfully opened dynamic library libcuda.so.1\n",
            "2021-04-11 03:51:22.891478: E tensorflow/stream_executor/cuda/cuda_driver.cc:328] failed call to cuInit: CUDA_ERROR_NO_DEVICE: no CUDA-capable device is detected\n",
            "2021-04-11 03:51:22.891544: I tensorflow/stream_executor/cuda/cuda_diagnostics.cc:156] kernel driver does not appear to be running on this host (bdbfb7760b6e): /proc/driver/nvidia/version does not exist\n",
            "2021-04-11 03:51:22.892111: I tensorflow/compiler/jit/xla_gpu_device.cc:99] Not creating XLA devices, tf_xla_enable_xla_devices not set\n",
            "Traceback (most recent call last):\n",
            "  File \"calling_script.py\", line 24, in <module>\n",
            "    r = eval(\"ykuxbklb.{}(source_functions, source_variables, 'valeria.quiroz@udea.edu.co')\".format(grader_function_name), namespace)\n",
            "  File \"<string>\", line 1, in <module>\n",
            "  File \"/content/ykuxbklb.py\", line 37, in grader_01\n",
            "    s_model = s_get_model(input_dim=784)\n",
            "  File \"<string>\", line 6, in get_model\n",
            "NameError: name 'Dense' is not defined\n",
            " (set session.debug=True for tracebacks)"
          ],
          "name": "stderr"
        }
      ]
    },
    {
      "cell_type": "markdown",
      "metadata": {
        "id": "KkYQG4649eiY"
      },
      "source": [
        "**test your model**\n",
        "\n",
        "now we can test your model"
      ]
    },
    {
      "cell_type": "code",
      "metadata": {
        "id": "gB0UD6KY9eiY"
      },
      "source": [
        "model = get_model(X.shape[1])\n",
        "model.fit(pXtr, eytr, batch_size=16, epochs=20)"
      ],
      "execution_count": null,
      "outputs": []
    },
    {
      "cell_type": "code",
      "metadata": {
        "id": "SrsdyDv09eiZ"
      },
      "source": [
        ""
      ],
      "execution_count": null,
      "outputs": []
    },
    {
      "cell_type": "code",
      "metadata": {
        "id": "YQQXN_Ic9eiZ"
      },
      "source": [
        "preds_ts = (model.predict(pXts)[:,0]>.5).astype(int)\n",
        "preds_tr = (model.predict(pXtr)[:,0]>.5).astype(int)"
      ],
      "execution_count": null,
      "outputs": []
    },
    {
      "cell_type": "code",
      "metadata": {
        "id": "-fos-HWT9eiZ"
      },
      "source": [
        "print (\"accuracy in train data %.2f\"%(np.mean(preds_tr==eytr)))\n",
        "print (\"accuracy in test data  %.2f\"%(np.mean(preds_ts==eyts)))"
      ],
      "execution_count": null,
      "outputs": []
    },
    {
      "cell_type": "markdown",
      "metadata": {
        "id": "cmH06rzN9eiZ"
      },
      "source": [
        "inspect TEST predictions. Do you see any class getting more confused with others?"
      ]
    },
    {
      "cell_type": "code",
      "metadata": {
        "id": "o56lIt3e9eia"
      },
      "source": [
        "for _ in range(20):\n",
        "    i = np.random.randint(len(pXts[0]))\n",
        "    plt.figure(figsize=(4,2))\n",
        "    plt.subplot(121)\n",
        "    plt.imshow(pXts[0][i].reshape(28,28), cmap=plt.cm.Greys_r)\n",
        "    plt.ylabel(\"PREDICTION %d\\nTARGET %d\"%(preds_ts[i], eyts[i]))\n",
        "    plt.subplot(122)\n",
        "    plt.imshow(pXts[1][i].reshape(28,28), cmap=plt.cm.Greys_r)"
      ],
      "execution_count": null,
      "outputs": []
    },
    {
      "cell_type": "code",
      "metadata": {
        "id": "4hlksh_h9eia"
      },
      "source": [
        ""
      ],
      "execution_count": null,
      "outputs": []
    },
    {
      "cell_type": "markdown",
      "metadata": {
        "id": "_yAvz3cJ9eia"
      },
      "source": [
        "## TASK 2: Measure per-class accuracy\n",
        "\n",
        "For each class we want to measure what is the prediction accuracy for the binary task when it participates in a pair. Observe how we gather the labels of each pair together with the binary prediction and the true value."
      ]
    },
    {
      "cell_type": "code",
      "metadata": {
        "id": "K_zW7BPn9eib"
      },
      "source": [
        "\n",
        "ts = pd.DataFrame(np.vstack((pyts[0],pyts[1], eyts, preds_ts)).T, columns=[\"pair_0\", \"pair_1\", \"true\", \"pred\"])\n",
        "ts.head()\n"
      ],
      "execution_count": null,
      "outputs": []
    },
    {
      "cell_type": "markdown",
      "metadata": {
        "id": "3P5l_k_U9eib"
      },
      "source": [
        "of course, the `true` value coincides with `pair_0` being equal or different from `pair_1`."
      ]
    },
    {
      "cell_type": "code",
      "metadata": {
        "id": "HM-d2LSr9eib"
      },
      "source": [
        "\n",
        "np.mean((ts.pair_0==ts.pair_1)==ts.true)\n"
      ],
      "execution_count": null,
      "outputs": []
    },
    {
      "cell_type": "markdown",
      "metadata": {
        "id": "YoJElVN09eic"
      },
      "source": [
        "To compute, per-class accuracy in this task, for instance for class 2:\n",
        "\n",
        "- select the rows where `pair_0` or `pair_1` is 2\n",
        "- measure the percentage of time in the selected rows where `true==pred`\n",
        "\n",
        "for instance, for the following DataFrame\n",
        "\n",
        "            pair_0  pair_1  true  pred\n",
        "        0        0       0     1     1\n",
        "        1        0       0     1     1\n",
        "        2        0       0     1     1\n",
        "        3        2       2     1     1\n",
        "        4        1       1     1     1\n",
        "        5        0       2     0     0\n",
        "        6        2       2     1     0\n",
        "        7        2       2     1     1\n",
        "        8        2       2     1     1\n",
        "        9        1       1     1     1\n",
        "        10       1       1     1     1\n",
        "        11       1       1     1     1\n",
        "        12       2       2     1     1\n",
        "        13       0       2     0     1\n",
        "        14       2       2     1     1\n",
        "        15       0       0     1     1\n",
        "        16       2       2     1     1\n",
        "        17       1       1     1     0\n",
        "        18       1       1     1     1\n",
        "        19       1       1     1     1\n",
        "        \n",
        "you must return this accuracies:\n",
        "\n",
        "        {0: 0.8333333333333334, 1: 0.8571428571428571, 2: 0.7777777777777778}\n",
        "\n",
        "\n",
        "the accuracies must be returned as a dictionary such as above. They keys are the original class labels, and the values the accuracy just described.\n",
        "\n",
        "The accuracies must be correct up to 3 decimal values."
      ]
    },
    {
      "cell_type": "code",
      "metadata": {
        "id": "tIPV9_Rz9eid"
      },
      "source": [
        "def perclass_bin_accuracy(ts):\n",
        "        \n",
        "    r = {}\n",
        "    for i in np.unique(ts.pair_0.tolist() + ts.pair_1.tolist()):\n",
        "        ...\n",
        "        r[i] = ... # your code here\n",
        "\n",
        "    return r"
      ],
      "execution_count": null,
      "outputs": []
    },
    {
      "cell_type": "markdown",
      "metadata": {
        "id": "DBi-E6VS9eie"
      },
      "source": [
        "test your code with the example above"
      ]
    },
    {
      "cell_type": "code",
      "metadata": {
        "id": "qk7oe-5U9eif"
      },
      "source": [
        "t = pd.DataFrame(\n",
        "        np.array([[0, 0, 1, 1],[0, 0, 1, 1],[0, 0, 1, 1],[2, 2, 1, 1],[1, 1, 1, 1],\n",
        "                  [0, 2, 0, 0],[2, 2, 1, 0],[2, 2, 1, 1],[2, 2, 1, 1],[1, 1, 1, 1],[1, 1, 1, 1],[1, 1, 1, 1],\n",
        "                  [2, 2, 1, 1],[0, 2, 0, 1],[2, 2, 1, 1],[0, 0, 1, 1],[2, 2, 1, 1],[1, 1, 1, 0],[1, 1, 1, 1],\n",
        "                  [1, 1, 1, 1]]), \n",
        "    columns=[\"pair_0\", \"pair_1\", \"true\", \"pred\"])\n",
        "perclass_bin_accuracy(t)"
      ],
      "execution_count": null,
      "outputs": []
    },
    {
      "cell_type": "markdown",
      "metadata": {
        "id": "mTIxTaO_9eig"
      },
      "source": [
        "test your code with other random examples"
      ]
    },
    {
      "cell_type": "code",
      "metadata": {
        "id": "staW4ZQw9eig"
      },
      "source": [
        "n, n_classes = 20, 3\n",
        "p0 = np.random.randint(n_classes, size=n)\n",
        "p1 = np.random.randint(n_classes, size=n)\n",
        "dtrue = (p0==p1).astype(int)\n",
        "preds = np.random.randint(2, size=n)\n",
        "td = pd.DataFrame([p0,p1,dtrue,preds], index=[\"pair_0\", \"pair_1\", \"true\", \"pred\"]).T\n",
        "\n",
        "td"
      ],
      "execution_count": null,
      "outputs": []
    },
    {
      "cell_type": "code",
      "metadata": {
        "id": "EPNLQKE29eig"
      },
      "source": [
        "perclass_bin_accuracy(td)"
      ],
      "execution_count": null,
      "outputs": []
    },
    {
      "cell_type": "code",
      "metadata": {
        "id": "a7gRCNEC9eih"
      },
      "source": [
        ""
      ],
      "execution_count": null,
      "outputs": []
    },
    {
      "cell_type": "markdown",
      "metadata": {
        "id": "_G6UPyj89eii"
      },
      "source": [
        "**Registra tu solución en linea**"
      ]
    },
    {
      "cell_type": "code",
      "metadata": {
        "scrolled": false,
        "id": "xcQppe5i9eii"
      },
      "source": [
        "student.submit_task(namespace=globals(), task_id='T2');"
      ],
      "execution_count": null,
      "outputs": []
    },
    {
      "cell_type": "code",
      "metadata": {
        "id": "TWa9xwp19eii"
      },
      "source": [
        ""
      ],
      "execution_count": null,
      "outputs": []
    },
    {
      "cell_type": "code",
      "metadata": {
        "id": "8QfoALs89eij"
      },
      "source": [
        ""
      ],
      "execution_count": null,
      "outputs": []
    }
  ]
}