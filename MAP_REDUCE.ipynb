{
  "nbformat": 4,
  "nbformat_minor": 0,
  "metadata": {
    "colab": {
      "name": "Copia de 04 - [TALLER] - MAP REDUCE.ipynb",
      "provenance": [],
      "collapsed_sections": [],
      "toc_visible": true,
      "include_colab_link": true
    },
    "kernelspec": {
      "name": "python3",
      "display_name": "Python 3"
    }
  },
  "cells": [
    {
      "cell_type": "markdown",
      "metadata": {
        "id": "view-in-github",
        "colab_type": "text"
      },
      "source": [
        "<a href=\"https://colab.research.google.com/github/valeriaquiroz/Machine-Learning/blob/main/MAP_REDUCE.ipynb\" target=\"_parent\"><img src=\"https://colab.research.google.com/assets/colab-badge.svg\" alt=\"Open In Colab\"/></a>"
      ]
    },
    {
      "cell_type": "code",
      "metadata": {
        "id": "Z7rbDx_-JApm",
        "colab": {
          "base_uri": "https://localhost:8080/",
          "height": 33
        },
        "outputId": "76b489af-7d16-454e-8b4e-f242615d2e70"
      },
      "source": [
        "!wget --no-cache -O init.py -q https://raw.githubusercontent.com/UDEA-Esp-Analitica-y-Ciencia-de-Datos/EACD-03-BIGDATA/master/init.py\n",
        "import init; init.init(force_download=False); \n",
        "from IPython.display import Image"
      ],
      "execution_count": null,
      "outputs": [
        {
          "output_type": "stream",
          "text": [
            "replicating local resources\n"
          ],
          "name": "stdout"
        }
      ]
    },
    {
      "cell_type": "code",
      "metadata": {
        "id": "hDzn_xcpJRWR",
        "colab": {
          "base_uri": "https://localhost:8080/",
          "height": 251
        },
        "outputId": "196b6957-94ae-4fa6-b4b2-0b360106b1b5"
      },
      "source": [
        "Image(\"local/imgs/udea-datascience.png\")"
      ],
      "execution_count": null,
      "outputs": [
        {
          "output_type": "execute_result",
          "data": {
            "image/png": "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\n",
            "text/plain": [
              "<IPython.core.display.Image object>"
            ]
          },
          "metadata": {
            "tags": []
          },
          "execution_count": 3
        }
      ]
    },
    {
      "cell_type": "code",
      "metadata": {
        "id": "YvgW16gGf-VK"
      },
      "source": [
        "!apt-get install openjdk-11-jdk-headless -qq > /dev/null\n",
        "!wget -q http://apache.osuosl.org/spark/spark-3.0.1/spark-3.0.1-bin-hadoop3.2.tgz \n",
        "!tar xf spark-3.0.1-bin-hadoop3.2.tgz \n",
        "!pip install -q findspark"
      ],
      "execution_count": null,
      "outputs": []
    },
    {
      "cell_type": "code",
      "metadata": {
        "id": "YO_2q4rxgBI0"
      },
      "source": [
        "import os\n",
        "os.environ[\"JAVA_HOME\"] = \"/usr/lib/jvm/java-11-openjdk-amd64\"\n",
        "os.environ[\"SPARK_HOME\"] = \"/content/spark-3.0.1-bin-hadoop3.2\""
      ],
      "execution_count": null,
      "outputs": []
    },
    {
      "cell_type": "code",
      "metadata": {
        "id": "UYz-eDk3gDbe"
      },
      "source": [
        "import findspark\n",
        "findspark.init()\n",
        "from pyspark.sql import SparkSession\n",
        "from pyspark import SparkContext\n",
        "spark = SparkSession.builder.master(\"local[*]\").getOrCreate()\n",
        "sc = SparkContext.getOrCreate()\n",
        "from operator import add"
      ],
      "execution_count": null,
      "outputs": []
    },
    {
      "cell_type": "markdown",
      "metadata": {
        "id": "myHD-jFLKEal"
      },
      "source": [
        "# **TALLER 1: MAP REDUCE**\n",
        "## Desarrollado por: Mg. Efraín Alberto Oviedo\n",
        "## Universidad de Antioquia"
      ]
    },
    {
      "cell_type": "markdown",
      "metadata": {
        "id": "4GK6iJ1CKS8o"
      },
      "source": [
        "Por favor, ingrese la siguiente información:\n",
        "\n",
        "**Nombre Completo:** Valeria Quiroz Gómez \n",
        "\n",
        "**Cédula:** ,
        "\n",
        "**Correo Institucional:** valeria.quiroz@udea.edu.co\n",
        "\n",
        "\n",
        "**Nombre Completo:** Gabriel Jaime Zapata \n",
        "\n",
        "**Cédula:** 
        "\n",
        "**Correo Institucional:** jaime.zapata@udea.edu.co"
      ]
    },
    {
      "cell_type": "markdown",
      "metadata": {
        "id": "UlYY1g0lKhz_"
      },
      "source": [
        "#**Análisis de Accidentalidad en la ciudad de Medellín**\n",
        "\n",
        "La secretaría de movilidad de la alcaldía de Medellín ha recolectado datos relacionados con la accidentalidad vial del año 2017 (Disponible en https://www.datos.gov.co) registrando en cada accidente la siguiente información: \n",
        "* Fecha\n",
        "* Hora\n",
        "* Día de la semana\n",
        "* Clase de accidente\n",
        "* Dirección\n",
        "* Gravedad\n",
        "* Barrio\n",
        "* Comuna\n",
        "\n",
        "Con el fin de adelantar programas que permitan disminuir la accidentalidad vial en la ciudad, se requiere de su ayuda para generar un informe que contenga la siguiente información:\n",
        "\n"
      ]
    },
    {
      "cell_type": "code",
      "metadata": {
        "id": "57EqkppP6t95",
        "colab": {
          "base_uri": "https://localhost:8080/",
          "height": 200
        },
        "outputId": "ef9f8f7d-06cb-48d3-b47b-1460bd10771e"
      },
      "source": [
        "datos = sc.textFile(\"local/data/accidentalidad.csv\").map(lambda line: line.split(\",\"))\n",
        "datos.collect()\n",
        "datos.take(3)\n",
        "header= datos.first()\n",
        "\n",
        "datos= datos.filter(lambda row: row != header)\n",
        "#datos.collect()\n",
        "header\n"
      ],
      "execution_count": null,
      "outputs": [
        {
          "output_type": "execute_result",
          "data": {
            "text/plain": [
              "['RADICADO',\n",
              " 'FECHA',\n",
              " 'HORA',\n",
              " 'DIA',\n",
              " 'CLASE',\n",
              " 'DIRECCION',\n",
              " 'TIPO_GEOCOD',\n",
              " 'GRAVEDAD',\n",
              " 'BARRIO',\n",
              " 'COMUNA',\n",
              " 'DISENO']"
            ]
          },
          "metadata": {
            "tags": []
          },
          "execution_count": 7
        }
      ]
    },
    {
      "cell_type": "markdown",
      "metadata": {
        "id": "GAyH6mgGK3VA"
      },
      "source": [
        "##**A) Porcentaje de accidentes en cada día de la semana**\n"
      ]
    },
    {
      "cell_type": "code",
      "metadata": {
        "id": "1_aQeGSD7nUZ",
        "colab": {
          "base_uri": "https://localhost:8080/",
          "height": 33
        },
        "outputId": "6b4aed11-e275-4e4b-d8cb-fd200a2a5229"
      },
      "source": [
        "porcentaje= datos.map(lambda x: (x[3],1))\n",
        "#porcentaje.collect()\n",
        "\n",
        "total= porcentaje.count()\n",
        "total"
      ],
      "execution_count": null,
      "outputs": [
        {
          "output_type": "execute_result",
          "data": {
            "text/plain": [
              "42558"
            ]
          },
          "metadata": {
            "tags": []
          },
          "execution_count": 8
        }
      ]
    },
    {
      "cell_type": "code",
      "metadata": {
        "id": "YWeIXqbo8SLr",
        "colab": {
          "base_uri": "https://localhost:8080/",
          "height": 133
        },
        "outputId": "70ec2173-1b4a-4046-97a9-8736c3640e72"
      },
      "source": [
        "datos1=porcentaje.reduceByKey(lambda a,b: ((a+b)))\n",
        "datos1.collect()\n"
      ],
      "execution_count": null,
      "outputs": [
        {
          "output_type": "execute_result",
          "data": {
            "text/plain": [
              "[('DOMINGO  ', 3917),\n",
              " ('MARTES   ', 6817),\n",
              " ('MIÉRCOLES', 6604),\n",
              " ('LUNES    ', 5981),\n",
              " ('JUEVES   ', 6275),\n",
              " ('VIERNES  ', 6909),\n",
              " ('SÁBADO   ', 6055)]"
            ]
          },
          "metadata": {
            "tags": []
          },
          "execution_count": 9
        }
      ]
    },
    {
      "cell_type": "code",
      "metadata": {
        "id": "x-7W1FUO-0Jg",
        "colab": {
          "base_uri": "https://localhost:8080/",
          "height": 70
        },
        "outputId": "3f30de4e-8bb1-4587-b295-b3359f39bb4f"
      },
      "source": [
        "porcentaje= datos1.mapValues(lambda a: a/total*100).collect()\n",
        "print(\"el porcentaje de accidentes en cada dia de la semana es \\n \", porcentaje)"
      ],
      "execution_count": null,
      "outputs": [
        {
          "output_type": "stream",
          "text": [
            "el porcentaje de accidentes en cada dia de la semana es \n",
            "  [('DOMINGO  ', 9.203909958174727), ('MARTES   ', 16.018139950185628), ('MIÉRCOLES', 15.51764650594483), ('LUNES    ', 14.053761924902485), ('JUEVES   ', 14.74458386202359), ('VIERNES  ', 16.234315522345973), ('SÁBADO   ', 14.227642276422763)]\n"
          ],
          "name": "stdout"
        }
      ]
    },
    {
      "cell_type": "markdown",
      "metadata": {
        "id": "F-njqbnTM2To"
      },
      "source": [
        "Presente aquí el código desarrollado y el resultado obtenido"
      ]
    },
    {
      "cell_type": "markdown",
      "metadata": {
        "id": "HGwierHTLFt3"
      },
      "source": [
        "##**B) Barrio en el que se presenta el mayor y el menor número de accidentes**"
      ]
    },
    {
      "cell_type": "code",
      "metadata": {
        "id": "OVfG6OGHCVf0",
        "colab": {
          "base_uri": "https://localhost:8080/",
          "height": 100
        },
        "outputId": "51267cdd-6e42-4b61-e518-3f8c2b092728"
      },
      "source": [
        "casos = datos.map(lambda a: (a[8],1)).reduceByKey(lambda x, y: x + y)\n",
        "casos.take(5)\n"
      ],
      "execution_count": null,
      "outputs": [
        {
          "output_type": "execute_result",
          "data": {
            "text/plain": [
              "[('Las Granjas', 191),\n",
              " ('Kennedy', 185),\n",
              " ('Miranda', 208),\n",
              " ('Centro Administrativo', 65),\n",
              " ('Manrique Oriental', 168)]"
            ]
          },
          "metadata": {
            "tags": []
          },
          "execution_count": 12
        }
      ]
    },
    {
      "cell_type": "code",
      "metadata": {
        "id": "DLo0L7lXG4s9",
        "colab": {
          "base_uri": "https://localhost:8080/",
          "height": 33
        },
        "outputId": "0a6241f0-e374-4863-ecf5-8a826bedbf80"
      },
      "source": [
        "\n",
        "mayor= casos.reduce(lambda a,b: a if (a[1]>b[1]) else b)\n",
        "print(\"El barrio con mayor número de accidentes es \",mayor)"
      ],
      "execution_count": null,
      "outputs": [
        {
          "output_type": "stream",
          "text": [
            "El barrio con mayor número de accidentes es  ('La Candelaria', 944)\n"
          ],
          "name": "stdout"
        }
      ]
    },
    {
      "cell_type": "code",
      "metadata": {
        "id": "kFCqTluFMUqW"
      },
      "source": [
        "#Por tanto el barrio con mayor número de accidentes es La Candelaria"
      ],
      "execution_count": null,
      "outputs": []
    },
    {
      "cell_type": "code",
      "metadata": {
        "id": "4wR4OzH1EUI1",
        "colab": {
          "base_uri": "https://localhost:8080/",
          "height": 183
        },
        "outputId": "a77adf2e-325f-486c-c4a7-375f2a5dd19b"
      },
      "source": [
        "casos = datos.map(lambda a: (a[8],1)).reduceByKey(lambda x, y: x + y)\n",
        "casos.take(10)\n"
      ],
      "execution_count": null,
      "outputs": [
        {
          "output_type": "execute_result",
          "data": {
            "text/plain": [
              "[('Las Granjas', 191),\n",
              " ('Kennedy', 185),\n",
              " ('Miranda', 208),\n",
              " ('Centro Administrativo', 65),\n",
              " ('Manrique Oriental', 168),\n",
              " ('Los Conquistadores', 713),\n",
              " ('Girardot', 199),\n",
              " ('El Rincón', 200),\n",
              " ('El Diamante', 207),\n",
              " ('Prado', 380)]"
            ]
          },
          "metadata": {
            "tags": []
          },
          "execution_count": 15
        }
      ]
    },
    {
      "cell_type": "code",
      "metadata": {
        "id": "5eDBUCIQM8X7",
        "colab": {
          "base_uri": "https://localhost:8080/",
          "height": 33
        },
        "outputId": "8638d341-c82a-410d-a340-fa98c154d9fb"
      },
      "source": [
        "menor=casos.reduce(lambda a,b: a if (a[1]<b[1]) else b)\n",
        "print(\"Uno de los barrios con menor número de accidentes es \",menor)\n"
      ],
      "execution_count": null,
      "outputs": [
        {
          "output_type": "stream",
          "text": [
            "Uno de los barrios con menor número de accidentes es  ('Moscú No.2', 1)\n"
          ],
          "name": "stdout"
        }
      ]
    },
    {
      "cell_type": "markdown",
      "metadata": {
        "id": "PfNZA5UdNPbv"
      },
      "source": [
        "Presente aquí el código desarrollado y el resultado obtenido"
      ]
    },
    {
      "cell_type": "markdown",
      "metadata": {
        "id": "pDX41ab4LO7g"
      },
      "source": [
        "##**C) Comuna en la que se presenta mayor número de accidentes con muertos**"
      ]
    },
    {
      "cell_type": "markdown",
      "metadata": {
        "id": "bSlgm0j-NQjn"
      },
      "source": [
        "Presente aquí el código desarrollado y el resultado obtenido"
      ]
    },
    {
      "cell_type": "code",
      "metadata": {
        "id": "W7W8DRqNPzvn",
        "colab": {
          "base_uri": "https://localhost:8080/",
          "height": 200
        },
        "outputId": "edd805b2-0421-4032-a6af-61eb637b048b"
      },
      "source": [
        "header"
      ],
      "execution_count": null,
      "outputs": [
        {
          "output_type": "execute_result",
          "data": {
            "text/plain": [
              "['RADICADO',\n",
              " 'FECHA',\n",
              " 'HORA',\n",
              " 'DIA',\n",
              " 'CLASE',\n",
              " 'DIRECCION',\n",
              " 'TIPO_GEOCOD',\n",
              " 'GRAVEDAD',\n",
              " 'BARRIO',\n",
              " 'COMUNA',\n",
              " 'DISENO']"
            ]
          },
          "metadata": {
            "tags": []
          },
          "execution_count": 106
        }
      ]
    },
    {
      "cell_type": "code",
      "metadata": {
        "id": "UVDL9ufYgMRK",
        "colab": {
          "base_uri": "https://localhost:8080/",
          "height": 33
        },
        "outputId": "feae6a0b-77ca-4ffc-83fd-296f67ffc926"
      },
      "source": [
        "accidentes = datos.map(lambda x: (x[7].replace('CON MUERTO','MUERTO'),x[9]))\n",
        "cont1=accidentes.filter(lambda x: x[0]=='MUERTO')\n",
        "cont2=cont1.map(lambda x: (x[1],1)).reduceByKey(lambda x, y: x + y)\n",
        "COMUNA=cont2.reduce(lambda a, b: a if a[1]>b[1] else b)\n",
        "print(\"la Comuna en la que se presenta mayor número de accidentes con muertos\", COMUNA)"
      ],
      "execution_count": null,
      "outputs": [
        {
          "output_type": "stream",
          "text": [
            "la Comuna en la que se presenta mayor número de accidentes con muertos ('La Candelaria', 27)\n"
          ],
          "name": "stdout"
        }
      ]
    },
    {
      "cell_type": "code",
      "metadata": {
        "id": "UJ1TZi9SRhYn",
        "colab": {
          "base_uri": "https://localhost:8080/",
          "height": 33
        },
        "outputId": "334310a5-24f0-4cce-d875-6f1b21c18fde"
      },
      "source": [
        "print(\"La comuna con más accidentes con muertes es la candelaria, con un total de 27 muertos\")"
      ],
      "execution_count": null,
      "outputs": [
        {
          "output_type": "stream",
          "text": [
            "La comuna con más accidentes con muertes es la candelaria, con un total de 27 muertos\n"
          ],
          "name": "stdout"
        }
      ]
    },
    {
      "cell_type": "code",
      "metadata": {
        "id": "jT7EbjVSIeBo",
        "colab": {
          "base_uri": "https://localhost:8080/",
          "height": 33
        },
        "outputId": "7c4226d1-e591-4177-c95c-b394e3353489"
      },
      "source": [
        "cont=datos.map(lambda x: (x[7].replace('CON MUERTO','MUERTO'),x[9]))\n",
        "result = cont.reduceByKey(lambda x, y: (x+' , '+y))\n",
        "algo = result.collectAsMap().get('MUERTO')\n",
        "lista=algo.split(',')\n",
        "flujo=sc.parallelize(lista)\n",
        "cont2=flujo.map(lambda x: (x,1)).reduceByKey(lambda x, y: x + y)\n",
        "COM=cont2.reduce(lambda a, b: a if a[1]>b[1] else b)\n",
        "print(\"La comuna en la que se presenta mayor número de accidentes con muertos es {}\".format(COM))"
      ],
      "execution_count": null,
      "outputs": [
        {
          "output_type": "stream",
          "text": [
            "La comuna en la que se presenta mayor número de accidentes con muertos es (' La Candelaria ', 27)\n"
          ],
          "name": "stdout"
        }
      ]
    },
    {
      "cell_type": "markdown",
      "metadata": {
        "id": "T89Y60StLUuh"
      },
      "source": [
        "##**D)\tDía de la semana en que se presentaron mayor cantidad de accidentes con muertos**"
      ]
    },
    {
      "cell_type": "markdown",
      "metadata": {
        "id": "xWQkDcDZNRVa"
      },
      "source": [
        "Presente aquí el código desarrollado y el resultado obtenido"
      ]
    },
    {
      "cell_type": "code",
      "metadata": {
        "id": "h5KZoga7TiLJ"
      },
      "source": [
        "header"
      ],
      "execution_count": null,
      "outputs": []
    },
    {
      "cell_type": "code",
      "metadata": {
        "id": "YHU6oUsNTkQE",
        "colab": {
          "base_uri": "https://localhost:8080/",
          "height": 366
        },
        "outputId": "102d6213-7c2a-430b-ef37-5a47f0e70ce3"
      },
      "source": [
        "semana_muertos= datos.map(lambda a: ((a[3],a[7].replace('CON MUERTO', 'MUERTO')),1)).reduceByKey(lambda x, y: x + y)\n",
        "\n",
        "semana_muertos.collect()"
      ],
      "execution_count": null,
      "outputs": [
        {
          "output_type": "execute_result",
          "data": {
            "text/plain": [
              "[(('DOMINGO  ', 'SOLO DAÑOS'), 1448),\n",
              " (('LUNES    ', 'HERIDO'), 3253),\n",
              " (('JUEVES   ', 'HERIDO'), 3308),\n",
              " (('MARTES   ', 'SOLO DAÑOS'), 3236),\n",
              " (('MIÉRCOLES', 'SOLO DAÑOS'), 3010),\n",
              " (('JUEVES   ', 'MUERTO'), 26),\n",
              " (('VIERNES  ', 'HERIDO'), 3548),\n",
              " (('SÁBADO   ', 'HERIDO'), 3207),\n",
              " (('LUNES    ', 'MUERTO'), 37),\n",
              " (('VIERNES  ', 'MUERTO'), 19),\n",
              " (('SÁBADO   ', 'MUERTO'), 45),\n",
              " (('DOMINGO  ', 'HERIDO'), 2427),\n",
              " (('DOMINGO  ', 'MUERTO'), 42),\n",
              " (('LUNES    ', 'SOLO DAÑOS'), 2691),\n",
              " (('MARTES   ', 'HERIDO'), 3551),\n",
              " (('MARTES   ', 'MUERTO'), 30),\n",
              " (('MIÉRCOLES', 'HERIDO'), 3571),\n",
              " (('JUEVES   ', 'SOLO DAÑOS'), 2941),\n",
              " (('VIERNES  ', 'SOLO DAÑOS'), 3342),\n",
              " (('SÁBADO   ', 'SOLO DAÑOS'), 2803),\n",
              " (('MIÉRCOLES', 'MUERTO'), 23)]"
            ]
          },
          "metadata": {
            "tags": []
          },
          "execution_count": 175
        }
      ]
    },
    {
      "cell_type": "code",
      "metadata": {
        "id": "4XSj0AiQibOB"
      },
      "source": [
        "Print(\"El día de la semana con más accidentes con muertos es el sábado, con 45 en total \")"
      ],
      "execution_count": null,
      "outputs": []
    },
    {
      "cell_type": "markdown",
      "metadata": {
        "id": "WlI7cjLXLdlQ"
      },
      "source": [
        "##**E)\tHora en la que se presentó mayor cantidad de accidentes con heridos**"
      ]
    },
    {
      "cell_type": "markdown",
      "metadata": {
        "id": "xHtI3jGcNTNn"
      },
      "source": [
        "Presente aquí el código desarrollado y el resultado obtenido"
      ]
    },
    {
      "cell_type": "code",
      "metadata": {
        "id": "kFGztbH0X1X-",
        "colab": {
          "base_uri": "https://localhost:8080/",
          "height": 200
        },
        "outputId": "ab0a7724-9ea3-44f8-8d6a-bac0a53ccbbf"
      },
      "source": [
        "header"
      ],
      "execution_count": null,
      "outputs": [
        {
          "output_type": "execute_result",
          "data": {
            "text/plain": [
              "['RADICADO',\n",
              " 'FECHA',\n",
              " 'HORA',\n",
              " 'DIA',\n",
              " 'CLASE',\n",
              " 'DIRECCION',\n",
              " 'TIPO_GEOCOD',\n",
              " 'GRAVEDAD',\n",
              " 'BARRIO',\n",
              " 'COMUNA',\n",
              " 'DISENO']"
            ]
          },
          "metadata": {
            "tags": []
          },
          "execution_count": 140
        }
      ]
    },
    {
      "cell_type": "code",
      "metadata": {
        "id": "Mzm8_-MyX4H_"
      },
      "source": [
        ""
      ],
      "execution_count": null,
      "outputs": []
    },
    {
      "cell_type": "code",
      "metadata": {
        "id": "a0Ez5ESLi0jm"
      },
      "source": [
        "#hora = datos.map(lambda x: (x[2],x[7])).filter(lambda x: x[0] =='HERIDO')\n",
        "#cont2=hora.map(lambda x: (x[1],1)).reduceByKey(lambda x, y: x + y)\n",
        "#Hora=res.reduce(lambda a, b: a if a[1]>b[1] else b)\n",
        "#print(\"La hora en la que se presentó mayor cantidad de accidentes con heridos es {}\".format(Hora))"
      ],
      "execution_count": null,
      "outputs": []
    },
    {
      "cell_type": "code",
      "metadata": {
        "id": "wLsERsV5kHo2",
        "colab": {
          "base_uri": "https://localhost:8080/",
          "height": 33
        },
        "outputId": "9f75ed32-404c-4379-8ee3-4ee237071369"
      },
      "source": [
        "cont=datos.map(lambda x: (x[7],x[2]))\n",
        "result = cont.reduceByKey(lambda x, y: (x+' , '+y))\n",
        "algo = result.collectAsMap().get('HERIDO')\n",
        "lista=algo.split(',')\n",
        "flujo=sc.parallelize(lista)\n",
        "cont2=flujo.map(lambda x: (x,1))\n",
        "res = cont2.reduceByKey(lambda x, y: x + y)\n",
        "Hora=res.reduce(lambda a, b: a if a[1]>b[1] else b)\n",
        "print(\"La hora en la que se presentó mayor cantidad de accidentes con heridos es {}\".format(Hora))"
      ],
      "execution_count": null,
      "outputs": [
        {
          "output_type": "stream",
          "text": [
            "La hora en la que se presentó mayor cantidad de accidentes con heridos es (' 18:00:00 ', 447)\n"
          ],
          "name": "stdout"
        }
      ]
    },
    {
      "cell_type": "markdown",
      "metadata": {
        "id": "j1LlOYfTNVsn"
      },
      "source": [
        "#**Propuesta para disminuir la accidentalidad de la ciudad**"
      ]
    },
    {
      "cell_type": "code",
      "metadata": {
        "id": "Fdn_d0gINzus"
      },
      "source": [
        ""
      ],
      "execution_count": null,
      "outputs": []
    },
    {
      "cell_type": "markdown",
      "metadata": {
        "id": "Z-rPhr5tNezH"
      },
      "source": [
        "**A la luz de los resultados obtenidos anteriormente, presente una propuesta orientada a mejorar las cifras de la accidentalidad en la ciudad.**\n",
        "\n",
        "\n",
        "\n",
        "Según los datos de accidentalidad en la ciudad de Medellín, considero que hay alta accidentalidad en horas pico, lo que podría mejorar aumentando las cifras y/o el horario del pico y placa para evitar aglomeraciones. \n",
        "También cabe destacar que el día sábado se puede considerar un día crítico de la semana, ya que ocurren muchos accidentes con muerto y pueden ser producto del licor. \n",
        "Al igual, el día martes es el día de la semana en que ocurren más accidentes con heridos, por lo que se debería de trabajar en planes educativos que generen conciencia en los conductores.\n",
        "Siendo un poco más extremos, generar un decreto en el que las personas que reincidan en accidentes viales se les suspenda la licencia, así se podría disminuir los accidentes de tránsito y las personas tienen más responsabilidad sobre sus actos. "
      ]
    }
  ]
}
