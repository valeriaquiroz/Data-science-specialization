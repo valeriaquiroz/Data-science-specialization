{
  "nbformat": 4,
  "nbformat_minor": 0,
  "metadata": {
    "accelerator": "TPU",
    "colab": {
      "name": "Deep learning Experimento 2.ipynb",
      "provenance": [],
      "collapsed_sections": [],
      "machine_shape": "hm",
      "include_colab_link": true
    },
    "kernelspec": {
      "display_name": "Python 3",
      "name": "python3"
    }
  },
  "cells": [
    {
      "cell_type": "markdown",
      "metadata": {
        "id": "view-in-github",
        "colab_type": "text"
      },
      "source": [
        "<a href=\"https://colab.research.google.com/github/valeriaquiroz/ML/blob/main/Deep_learning_Experimento_2.ipynb\" target=\"_parent\"><img src=\"https://colab.research.google.com/assets/colab-badge.svg\" alt=\"Open In Colab\"/></a>"
      ]
    },
    {
      "cell_type": "code",
      "metadata": {
        "colab": {
          "base_uri": "https://localhost:8080/"
        },
        "id": "T4lRkiyzfznC",
        "outputId": "56877b04-d8ed-4a6f-ebef-fb677ca7e29b"
      },
      "source": [
        "# Info on how to get your api key (kaggle.json) here: https://github.com/Kaggle/kaggle-api#api-credentials\n",
        "# Valeria Quiroz  - Gabriel Zapata\n",
        "%%time\n",
        "!pip install kaggle\n",
        "api_token = {\"username\":\"gabrielzapata\",\"key\":\"45d11139cb4e32995898eae373213b5f\"}\n",
        "import json\n",
        "import zipfile\n",
        "import os\n",
        "with open('/content/kaggle.json', 'w') as file:\n",
        "    json.dump(api_token, file)\n",
        "!mkdir /root/.kaggle      \n",
        "!cp /content/kaggle.json ~/.kaggle/kaggle.json\n",
        "!kaggle config set -n path -v/content\n",
        "!chmod 600 /root/.kaggle/kaggle.json\n",
        "!kaggle competitions download -c ga-customer-revenue-prediction\n",
        "if not os.path.exists(\"/content/competitions/ga-customer-revenue-prediction\"):\n",
        "    os.makedirs(\"/content/competitions/ga-customer-revenue-prediction\")\n",
        "os.chdir('/content/competitions/ga-customer-revenue-prediction')\n",
        "for file in os.listdir():\n",
        "    zip_ref = zipfile.ZipFile(file, 'r')\n",
        "    zip_ref.extractall()\n",
        "    zip_ref.close()"
      ],
      "execution_count": null,
      "outputs": [
        {
          "output_type": "stream",
          "text": [
            "Requirement already satisfied: kaggle in /usr/local/lib/python3.7/dist-packages (1.5.12)\n",
            "Requirement already satisfied: tqdm in /usr/local/lib/python3.7/dist-packages (from kaggle) (4.41.1)\n",
            "Requirement already satisfied: six>=1.10 in /usr/local/lib/python3.7/dist-packages (from kaggle) (1.15.0)\n",
            "Requirement already satisfied: python-slugify in /usr/local/lib/python3.7/dist-packages (from kaggle) (4.0.1)\n",
            "Requirement already satisfied: certifi in /usr/local/lib/python3.7/dist-packages (from kaggle) (2020.12.5)\n",
            "Requirement already satisfied: requests in /usr/local/lib/python3.7/dist-packages (from kaggle) (2.23.0)\n",
            "Requirement already satisfied: urllib3 in /usr/local/lib/python3.7/dist-packages (from kaggle) (1.24.3)\n",
            "Requirement already satisfied: python-dateutil in /usr/local/lib/python3.7/dist-packages (from kaggle) (2.8.1)\n",
            "Requirement already satisfied: text-unidecode>=1.3 in /usr/local/lib/python3.7/dist-packages (from python-slugify->kaggle) (1.3)\n",
            "Requirement already satisfied: idna<3,>=2.5 in /usr/local/lib/python3.7/dist-packages (from requests->kaggle) (2.10)\n",
            "Requirement already satisfied: chardet<4,>=3.0.2 in /usr/local/lib/python3.7/dist-packages (from requests->kaggle) (3.0.4)\n",
            "Warning: Your Kaggle API key is readable by other users on this system! To fix this, you can run 'chmod 600 /root/.kaggle/kaggle.json'\n",
            "- path is now set to: /content\n",
            "Warning: Looks like you're using an outdated API Version, please consider updating (server 1.5.12 / client 1.5.4)\n",
            "Downloading train_v2.csv.zip to /content/competitions/ga-customer-revenue-prediction\n",
            " 99% 1.11G/1.11G [00:09<00:00, 110MB/s]\n",
            "100% 1.11G/1.11G [00:09<00:00, 125MB/s]\n",
            "Downloading test.csv.zip to /content/competitions/ga-customer-revenue-prediction\n",
            " 85% 48.0M/56.8M [00:00<00:00, 41.2MB/s]\n",
            "100% 56.8M/56.8M [00:00<00:00, 83.2MB/s]\n",
            "Downloading sample_submission_v2.csv.zip to /content/competitions/ga-customer-revenue-prediction\n",
            "  0% 0.00/2.55M [00:00<?, ?B/s]\n",
            "100% 2.55M/2.55M [00:00<00:00, 168MB/s]\n",
            "Downloading sample_submission.csv.zip to /content/competitions/ga-customer-revenue-prediction\n",
            "  0% 0.00/5.23M [00:00<?, ?B/s]\n",
            "100% 5.23M/5.23M [00:00<00:00, 173MB/s]\n",
            "Downloading test_v2.csv.zip to /content/competitions/ga-customer-revenue-prediction\n",
            " 99% 331M/333M [00:02<00:00, 152MB/s]\n",
            "100% 333M/333M [00:02<00:00, 136MB/s]\n",
            "Downloading train.csv.zip to /content/competitions/ga-customer-revenue-prediction\n",
            " 72% 44.0M/61.1M [00:00<00:00, 68.3MB/s]\n",
            "100% 61.1M/61.1M [00:00<00:00, 154MB/s] \n",
            "CPU times: user 1min 41s, sys: 38.6 s, total: 2min 20s\n",
            "Wall time: 5min 10s\n"
          ],
          "name": "stdout"
        }
      ]
    },
    {
      "cell_type": "markdown",
      "metadata": {
        "id": "4xMba_UBhDlI"
      },
      "source": [
        "### **Librerias**"
      ]
    },
    {
      "cell_type": "code",
      "metadata": {
        "id": "UqDfZ40PhC2Z"
      },
      "source": [
        "import pandas as pd\n",
        "import numpy as np\n",
        "import random\n",
        "import matplotlib.pyplot as plt\n",
        "from pandas import json_normalize\n",
        "import seaborn as sns \n",
        "from sklearn import model_selection, preprocessing, metrics\n",
        "import lightgbm as lgb\n",
        "import plotly.graph_objs as go\n",
        "from plotly import subplots\n",
        "import plotly.offline as py\n",
        "from sklearn.model_selection import GridSearchCV\n",
        "from sklearn.ensemble import GradientBoostingRegressor\n",
        "import datetime\n",
        "from sklearn.model_selection import  GroupKFold\n",
        "from sklearn.pipeline import Pipeline\n",
        "#from sklearn.metrics import mean_absolute_percentage_error"
      ],
      "execution_count": null,
      "outputs": []
    },
    {
      "cell_type": "markdown",
      "metadata": {
        "id": "WmJlltc1kI_6"
      },
      "source": [
        "### **Explicacion del codigo json sacado de Kaggle, para aplanar los datos**"
      ]
    },
    {
      "cell_type": "code",
      "metadata": {
        "id": "cP2WQQPPkHW6"
      },
      "source": [
        "def load_df(csv_path='/content/competitions/ga-customer-revenue-prediction/train.csv', nrows=None):\n",
        "    JSON_COLUMNS = ['device', 'geoNetwork', 'totals', 'trafficSource']\n",
        "    \n",
        "    df = pd.read_csv(csv_path, \n",
        "                     converters={column: json.loads for column in JSON_COLUMNS}, \n",
        "                     dtype={'fullVisitorId': 'str'}, # Important!!\n",
        "                     nrows=nrows)\n",
        "    \n",
        "    for column in JSON_COLUMNS:\n",
        "        column_as_df = json_normalize(df[column])\n",
        "        column_as_df.columns = [f\"{column}.{subcolumn}\" for subcolumn in column_as_df.columns]\n",
        "        df = df.drop(column, axis=1).merge(column_as_df, right_index=True, left_index=True)\n",
        "    print(f\"Loaded {os.path.basename(csv_path)}. Shape: {df.shape}\")\n",
        "    return df"
      ],
      "execution_count": null,
      "outputs": []
    },
    {
      "cell_type": "code",
      "metadata": {
        "colab": {
          "base_uri": "https://localhost:8080/"
        },
        "id": "9rDoHgBykbIq",
        "outputId": "20464dd6-8983-4e76-e364-c455ee443c8f"
      },
      "source": [
        "%%time\n",
        "train_df = load_df()\n",
        "#test_df = load_df('/content/competitions/ga-customer-revenue-prediction/test.csv')"
      ],
      "execution_count": null,
      "outputs": [
        {
          "output_type": "stream",
          "text": [
            "Loaded train.csv. Shape: (903653, 55)\n",
            "CPU times: user 2min 2s, sys: 7.77 s, total: 2min 10s\n",
            "Wall time: 2min 9s\n"
          ],
          "name": "stdout"
        }
      ]
    },
    {
      "cell_type": "code",
      "metadata": {
        "colab": {
          "base_uri": "https://localhost:8080/"
        },
        "id": "4HBDjHPxPoJ-",
        "outputId": "29e52d3f-b55d-4b79-f484-014f8c02bc80"
      },
      "source": [
        "train_df = train_df.drop( ['sessionId'] + [\"trafficSource.campaignCode\"], axis=1)\n",
        "print(train_df.shape)"
      ],
      "execution_count": null,
      "outputs": [
        {
          "output_type": "stream",
          "text": [
            "(903653, 53)\n"
          ],
          "name": "stdout"
        }
      ]
    },
    {
      "cell_type": "markdown",
      "metadata": {
        "id": "D-HnPOzDks6A"
      },
      "source": [
        "### **Eliminemos columnas constantes e imputar valores cero a NAN**"
      ]
    },
    {
      "cell_type": "code",
      "metadata": {
        "colab": {
          "base_uri": "https://localhost:8080/"
        },
        "id": "0gQ04qqtkf-y",
        "outputId": "cc86b186-08e6-4e94-8d88-0e64ad083601"
      },
      "source": [
        "print (\"Antes de eliminar columnas constantes - shape de train y test datasets: \", train_df.shape)\n",
        "train_df = train_df.loc[:, (train_df != train_df.iloc[0]).any()]\n",
        "print (\"Despues de eliminar columnas constantes - shape de train y test datasets: \", train_df.shape)"
      ],
      "execution_count": null,
      "outputs": [
        {
          "output_type": "stream",
          "text": [
            "Antes de eliminar columnas constantes - shape de train y test datasets:  (903653, 53)\n",
            "Despues de eliminar columnas constantes - shape de train y test datasets:  (903653, 34)\n"
          ],
          "name": "stdout"
        }
      ]
    },
    {
      "cell_type": "code",
      "metadata": {
        "id": "cto-b-etl4wK"
      },
      "source": [
        "# Replace NaN values throughout train dataset\n",
        "train_df.replace(to_replace=np.nan, value=0, inplace=True)"
      ],
      "execution_count": null,
      "outputs": []
    },
    {
      "cell_type": "markdown",
      "metadata": {
        "id": "fEnyLMx_mR3B"
      },
      "source": [
        "### **Conversion variable categórica a númerica**"
      ]
    },
    {
      "cell_type": "code",
      "metadata": {
        "colab": {
          "base_uri": "https://localhost:8080/"
        },
        "id": "NY3Ld1XBmRHa",
        "outputId": "0f4a5a23-2a12-465d-b4cb-ea934cbc05cd"
      },
      "source": [
        "# etiqueta codifica las variables categóricas y convierte las variables numéricas flotantes\n",
        "cat_cols = [\"channelGrouping\", \"device.browser\",\n",
        "            \"device.deviceCategory\", \"device.operatingSystem\", \"device.isMobile\",\n",
        "            \"geoNetwork.city\", \"geoNetwork.continent\", \n",
        "            \"geoNetwork.country\", \"geoNetwork.metro\",\n",
        "            \"geoNetwork.networkDomain\", \"geoNetwork.region\", \n",
        "            \"geoNetwork.subContinent\", \"trafficSource.adContent\", \n",
        "            \"trafficSource.adwordsClickInfo.adNetworkType\", \n",
        "            \"trafficSource.adwordsClickInfo.gclId\", \n",
        "            \"trafficSource.adwordsClickInfo.page\", \n",
        "            \"trafficSource.adwordsClickInfo.slot\", \"trafficSource.campaign\",\n",
        "            \"trafficSource.keyword\", \"trafficSource.medium\", \n",
        "            \"trafficSource.referralPath\", \"trafficSource.source\",\n",
        "            'trafficSource.adwordsClickInfo.isVideoAd', 'trafficSource.isTrueDirect']\n",
        "for col in cat_cols:\n",
        "    print(col)\n",
        "    lbl = preprocessing.LabelEncoder()\n",
        "    lbl.fit(list(train_df[col].values.astype('str')))\n",
        "    train_df[col] = lbl.transform(list(train_df[col].values.astype('str')))\n",
        "    \n",
        "\n",
        "\n",
        "num_cols = [\"totals.hits\", \"totals.pageviews\", \"visitNumber\", \"visitStartTime\", 'totals.bounces',  'totals.newVisits']    \n",
        "for col in num_cols:\n",
        "    train_df[col] = train_df[col].astype(float)\n",
        "   "
      ],
      "execution_count": null,
      "outputs": [
        {
          "output_type": "stream",
          "text": [
            "channelGrouping\n",
            "device.browser\n",
            "device.deviceCategory\n",
            "device.operatingSystem\n",
            "device.isMobile\n",
            "geoNetwork.city\n",
            "geoNetwork.continent\n",
            "geoNetwork.country\n",
            "geoNetwork.metro\n",
            "geoNetwork.networkDomain\n",
            "geoNetwork.region\n",
            "geoNetwork.subContinent\n",
            "trafficSource.adContent\n",
            "trafficSource.adwordsClickInfo.adNetworkType\n",
            "trafficSource.adwordsClickInfo.gclId\n",
            "trafficSource.adwordsClickInfo.page\n",
            "trafficSource.adwordsClickInfo.slot\n",
            "trafficSource.campaign\n",
            "trafficSource.keyword\n",
            "trafficSource.medium\n",
            "trafficSource.referralPath\n",
            "trafficSource.source\n",
            "trafficSource.adwordsClickInfo.isVideoAd\n",
            "trafficSource.isTrueDirect\n"
          ],
          "name": "stdout"
        }
      ]
    },
    {
      "cell_type": "code",
      "metadata": {
        "id": "QuIKpRuMS16o"
      },
      "source": [
        "train_df.to_csv('dataset.csv')"
      ],
      "execution_count": null,
      "outputs": []
    },
    {
      "cell_type": "code",
      "metadata": {
        "id": "X961Z32Kk8F3"
      },
      "source": [
        "Y = np.log1p(train_df[\"totals.transactionRevenue\"].astype('float'))\n",
        "X=train_df.drop([\"totals.transactionRevenue\"],axis=1)##Eliminamos la salida de los datos de las caracteristicas\n",
        "#X=X.drop([\"date\"],axis=1)"
      ],
      "execution_count": null,
      "outputs": []
    },
    {
      "cell_type": "code",
      "metadata": {
        "id": "RrLxpKSZMTc1"
      },
      "source": [
        "groupsTrain = X['fullVisitorId']\n",
        "group_kfold = GroupKFold(n_splits=2)"
      ],
      "execution_count": null,
      "outputs": []
    },
    {
      "cell_type": "code",
      "metadata": {
        "id": "jpM4HHIiAs90"
      },
      "source": [
        "train_index, test_index = next(GroupKFold(n_splits=4).split(X,Y, groupsTrain)) \n",
        "X_train = X.iloc[train_index]\n",
        "Y_train= Y.iloc[train_index]\n",
        "X_test = X.iloc[test_index]\n",
        "Y_test = Y.iloc[test_index]   \n",
        "    "
      ],
      "execution_count": null,
      "outputs": []
    },
    {
      "cell_type": "code",
      "metadata": {
        "colab": {
          "base_uri": "https://localhost:8080/"
        },
        "id": "yZzvibQDTmLv",
        "outputId": "e92176d1-0a53-4709-bea8-9509ad05f62c"
      },
      "source": [
        "X_train.shape"
      ],
      "execution_count": null,
      "outputs": [
        {
          "output_type": "execute_result",
          "data": {
            "text/plain": [
              "(677739, 33)"
            ]
          },
          "metadata": {
            "tags": []
          },
          "execution_count": 13
        }
      ]
    },
    {
      "cell_type": "code",
      "metadata": {
        "id": "Pnee6xb3wG50"
      },
      "source": [
        "groups = X_train['fullVisitorId']\n",
        "group_kfold= GroupKFold(n_splits=3).split(X_train, Y_train, groups)"
      ],
      "execution_count": null,
      "outputs": []
    },
    {
      "cell_type": "code",
      "metadata": {
        "id": "cexks_dNEVS9"
      },
      "source": [
        "# Grid de hiperparámetros evaluados\n",
        "# ==============================================================================\n",
        "param_grid = {'max_depth'     : [3,6,9,12,15,18,21],\n",
        "              'n_estimators' : [20,30,40,50,60,70,80,90,100]\n",
        "             }\n",
        "\n",
        "# Búsqueda por grid search con validación cruzada\n",
        "# ==============================================================================\n",
        "grid = GridSearchCV(\n",
        "        estimator  = GradientBoostingRegressor(\n",
        "                        random_state        = 0,\n",
        "                        # Activación de la parada temprana\n",
        "                        validation_fraction = 0.1,\n",
        "                        n_iter_no_change    = 5,\n",
        "                        tol                 =0.1e-7\n",
        "                    ),\n",
        "        param_grid = param_grid,\n",
        "        scoring    = 'neg_root_mean_squared_error',\n",
        "        n_jobs     =  40,\n",
        "        cv         = group_kfold, \n",
        "        refit      = True,\n",
        "        verbose    = 2,\n",
        "        return_train_score = True\n",
        "       )"
      ],
      "execution_count": null,
      "outputs": []
    },
    {
      "cell_type": "code",
      "metadata": {
        "colab": {
          "base_uri": "https://localhost:8080/"
        },
        "id": "RZ_POsniUIF_",
        "outputId": "add7b97f-26da-48bb-847f-f457d045b88f"
      },
      "source": [
        "groups1=X_train\n",
        "Model1=grid.fit(X_train,Y_train,groups1['fullVisitorId'])"
      ],
      "execution_count": null,
      "outputs": [
        {
          "output_type": "stream",
          "text": [
            "Fitting 3 folds for each of 63 candidates, totalling 189 fits\n"
          ],
          "name": "stdout"
        },
        {
          "output_type": "stream",
          "text": [
            "[Parallel(n_jobs=40)]: Using backend LokyBackend with 40 concurrent workers.\n",
            "[Parallel(n_jobs=40)]: Done  82 tasks      | elapsed: 19.7min\n",
            "[Parallel(n_jobs=40)]: Done 189 out of 189 | elapsed: 27.9min finished\n"
          ],
          "name": "stderr"
        }
      ]
    },
    {
      "cell_type": "code",
      "metadata": {
        "id": "fM6JrclRgKbE"
      },
      "source": [
        "Model=Model1.best_estimator_"
      ],
      "execution_count": null,
      "outputs": []
    },
    {
      "cell_type": "code",
      "metadata": {
        "id": "DC_b54ppgYOi"
      },
      "source": [
        "pred_test_y1= Model.predict(X_test)"
      ],
      "execution_count": null,
      "outputs": []
    },
    {
      "cell_type": "code",
      "metadata": {
        "colab": {
          "base_uri": "https://localhost:8080/"
        },
        "id": "UXatSfHxgkKp",
        "outputId": "bcc9b3eb-bc25-43f7-f27e-d767f2e89f0f"
      },
      "source": [
        "pred_test_y1[pred_test_y1<0]=0\n",
        "print(f\"MSE= {metrics.mean_squared_error(np.expm1(Y_test),np.expm1(pred_test_y1))}\")\n",
        "print(f\"MAE= {metrics.mean_absolute_error(np.expm1(Y_test),np.expm1(pred_test_y1))}\")"
      ],
      "execution_count": null,
      "outputs": [
        {
          "output_type": "stream",
          "text": [
            "MSE= 6412947211210787.0\n",
            "MAE= 2015251.036494315\n"
          ],
          "name": "stdout"
        }
      ]
    },
    {
      "cell_type": "code",
      "metadata": {
        "colab": {
          "base_uri": "https://localhost:8080/"
        },
        "id": "iAUJh-TSsYb8",
        "outputId": "f120b3d9-b649-4c80-ca18-c8c498928c7a"
      },
      "source": [
        "print(f\"RAIZCMSE= {np.sqrt(metrics.mean_squared_error(np.expm1(Y_test),np.expm1(pred_test_y1)))}\")#con raiz cuadrada"
      ],
      "execution_count": null,
      "outputs": [
        {
          "output_type": "stream",
          "text": [
            "RAIZCMSE= 80080879.18605031\n"
          ],
          "name": "stdout"
        }
      ]
    },
    {
      "cell_type": "code",
      "metadata": {
        "colab": {
          "base_uri": "https://localhost:8080/"
        },
        "id": "_meuy9avGnxd",
        "outputId": "b2778a60-0f44-4604-ab5a-f345f6c3217d"
      },
      "source": [
        "test_pred_df = pd.DataFrame({\"fullVisitorId\":X_test[\"fullVisitorId\"].values})\n",
        "test_pred_df[\"transactionRevenue\"] =  np.expm1(Y_test.values)\n",
        "test_pred_df[\"PredictedRevenue\"] = np.expm1(pred_test_y1)\n",
        "test_pred_df = test_pred_df.groupby(\"fullVisitorId\")[\"transactionRevenue\", \"PredictedRevenue\"].sum().reset_index()\n",
        "print(np.sqrt(metrics.mean_squared_error(test_pred_df[\"transactionRevenue\"].values, test_pred_df[\"PredictedRevenue\"].values)))"
      ],
      "execution_count": null,
      "outputs": [
        {
          "output_type": "stream",
          "text": [
            "/usr/local/lib/python3.7/dist-packages/ipykernel_launcher.py:4: FutureWarning:\n",
            "\n",
            "Indexing with multiple keys (implicitly converted to a tuple of keys) will be deprecated, use a list instead.\n",
            "\n"
          ],
          "name": "stderr"
        },
        {
          "output_type": "stream",
          "text": [
            "194456376.82206824\n"
          ],
          "name": "stdout"
        }
      ]
    },
    {
      "cell_type": "markdown",
      "metadata": {
        "id": "KibvP_98FWmZ"
      },
      "source": [
        "70628755.60452108 --- 80081307.00804986"
      ]
    },
    {
      "cell_type": "code",
      "metadata": {
        "id": "cXGioRdXQ3Gm"
      },
      "source": [
        "groups = X_train['fullVisitorId']\n",
        "group_kfold= GroupKFold(n_splits=3).split(X_train, Y_train, groups)"
      ],
      "execution_count": null,
      "outputs": []
    },
    {
      "cell_type": "code",
      "metadata": {
        "id": "bhqAnSljiNjy"
      },
      "source": [
        "# Grid de hiperparámetros evaluados\n",
        "# ==============================================================================\n",
        "param_grid = {'max_depth'     : [3,6,9,12,15,18,21],\n",
        "              'n_estimators' : [20,30,40,50,60,70,80,90,100]\n",
        "             }\n",
        "\n",
        "# Búsqueda por grid search con validación cruzada\n",
        "# ==============================================================================\n",
        "grid1 = GridSearchCV(\n",
        "        estimator  = GradientBoostingRegressor(\n",
        "                        random_state        = 0,\n",
        "                        # Activación de la parada temprana\n",
        "                        validation_fraction = 0.1,\n",
        "                        n_iter_no_change    = 5,\n",
        "                        tol                 =0.1e-7\n",
        "                    ),\n",
        "        param_grid = param_grid,\n",
        "        scoring    = 'neg_mean_absolute_error',###Pediente de realizar la funcion de error make,'mean_absolute_error'\n",
        "        n_jobs     =  40,\n",
        "        cv         = group_kfold, \n",
        "        refit      = True,\n",
        "        verbose    = 2,\n",
        "        return_train_score = True\n",
        "       )"
      ],
      "execution_count": null,
      "outputs": []
    },
    {
      "cell_type": "code",
      "metadata": {
        "id": "OzKS3-lFiUOz",
        "colab": {
          "base_uri": "https://localhost:8080/"
        },
        "outputId": "623f17d9-3749-40ee-83c1-17230c470bc8"
      },
      "source": [
        "groups2=X_train\n",
        "Model2=grid1.fit(X_train,Y_train, groups2['fullVisitorId'])"
      ],
      "execution_count": null,
      "outputs": [
        {
          "output_type": "stream",
          "text": [
            "Fitting 3 folds for each of 63 candidates, totalling 189 fits\n"
          ],
          "name": "stdout"
        },
        {
          "output_type": "stream",
          "text": [
            "[Parallel(n_jobs=40)]: Using backend LokyBackend with 40 concurrent workers.\n",
            "[Parallel(n_jobs=40)]: Done  82 tasks      | elapsed: 17.5min\n",
            "[Parallel(n_jobs=40)]: Done 189 out of 189 | elapsed: 25.7min finished\n"
          ],
          "name": "stderr"
        }
      ]
    },
    {
      "cell_type": "code",
      "metadata": {
        "id": "3DRzK0kUi6cy"
      },
      "source": [
        "ModelMAE=Model2.best_estimator_"
      ],
      "execution_count": null,
      "outputs": []
    },
    {
      "cell_type": "code",
      "metadata": {
        "id": "3GuaJUaCjEDj"
      },
      "source": [
        "pred_test_y2= ModelMAE.predict(X_test)"
      ],
      "execution_count": null,
      "outputs": []
    },
    {
      "cell_type": "code",
      "metadata": {
        "id": "MU8ho9K2jJVL",
        "colab": {
          "base_uri": "https://localhost:8080/"
        },
        "outputId": "b79be7c4-e184-4aca-f3c1-1ae2a6ec7d5c"
      },
      "source": [
        "pred_test_y2[pred_test_y2<0]=0\n",
        "print(f\"MSE= {metrics.mean_squared_error(np.expm1(Y_test),np.expm1(pred_test_y2))}\")\n",
        "print(f\"MAE= {metrics.mean_absolute_error(np.expm1(Y_test),np.expm1(pred_test_y2))}\")"
      ],
      "execution_count": null,
      "outputs": [
        {
          "output_type": "stream",
          "text": [
            "MSE= 6413022624099886.0\n",
            "MAE= 2015338.48192155\n"
          ],
          "name": "stdout"
        }
      ]
    },
    {
      "cell_type": "code",
      "metadata": {
        "colab": {
          "base_uri": "https://localhost:8080/"
        },
        "id": "v8wtSdNqscDE",
        "outputId": "b6cb1842-7591-4c94-d146-fd78d35bbfda"
      },
      "source": [
        "print(f\"RAIZCMSE= {np.sqrt(metrics.mean_squared_error(np.expm1(Y_test),np.expm1(pred_test_y2)))}\")#con raiz cuadrada"
      ],
      "execution_count": null,
      "outputs": [
        {
          "output_type": "stream",
          "text": [
            "RAIZCMSE= 80081350.03919381\n"
          ],
          "name": "stdout"
        }
      ]
    },
    {
      "cell_type": "code",
      "metadata": {
        "colab": {
          "base_uri": "https://localhost:8080/"
        },
        "id": "_7iEQfVJGEfx",
        "outputId": "6e55ba57-c183-4bce-c3af-f14de61f3564"
      },
      "source": [
        "test_pred_df = pd.DataFrame({\"fullVisitorId\":X_test[\"fullVisitorId\"].values})\n",
        "test_pred_df[\"transactionRevenue\"] =  np.expm1(Y_test.values)\n",
        "test_pred_df[\"PredictedRevenue\"] = np.expm1(pred_test_y2)\n",
        "test_pred_df = test_pred_df.groupby(\"fullVisitorId\")[\"transactionRevenue\", \"PredictedRevenue\"].sum().reset_index()\n",
        "print(np.sqrt(metrics.mean_squared_error(test_pred_df[\"transactionRevenue\"].values, test_pred_df[\"PredictedRevenue\"].values)))"
      ],
      "execution_count": null,
      "outputs": [
        {
          "output_type": "stream",
          "text": [
            "/usr/local/lib/python3.7/dist-packages/ipykernel_launcher.py:4: FutureWarning:\n",
            "\n",
            "Indexing with multiple keys (implicitly converted to a tuple of keys) will be deprecated, use a list instead.\n",
            "\n"
          ],
          "name": "stderr"
        },
        {
          "output_type": "stream",
          "text": [
            "194456974.31128404\n"
          ],
          "name": "stdout"
        }
      ]
    }
  ]
}